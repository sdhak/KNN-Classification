{
 "cells": [
  {
   "cell_type": "markdown",
   "metadata": {},
   "source": [
    "# Download the iris data\n",
    "(https://scikit-learn.org/stable/modules/generated/sklearn.datasets.load_iris.html#sklearn.datasets.load_iris (Links to an external site.))"
   ]
  },
  {
   "cell_type": "code",
   "execution_count": 1,
   "metadata": {},
   "outputs": [
    {
     "name": "stdout",
     "output_type": "stream",
     "text": [
      "['sepal length (cm)', 'sepal width (cm)', 'petal length (cm)', 'petal width (cm)'] [[5.1 3.5 1.4 0.2]\n",
      " [4.9 3.  1.4 0.2]\n",
      " [4.7 3.2 1.3 0.2]\n",
      " [4.6 3.1 1.5 0.2]\n",
      " [5.  3.6 1.4 0.2]]\n"
     ]
    }
   ],
   "source": [
    "import numpy as np\n",
    "import sklearn\n",
    "from sklearn import datasets\n",
    "\n",
    "from sklearn import model_selection\n",
    "from sklearn.model_selection import train_test_split\n",
    "\n",
    "iris = sklearn.datasets.load_iris()\n",
    "print(iris.feature_names, iris.data[:5])"
   ]
  },
  {
   "cell_type": "markdown",
   "metadata": {},
   "source": [
    "# Apply K-nearest-neighbor algorithm in iris classification\n",
    "Cross-validation can be used to decide which k is the best; You can also split the data into training set, validation set, and testing set and find the best k manually"
   ]
  },
  {
   "cell_type": "code",
   "execution_count": 2,
   "metadata": {},
   "outputs": [],
   "source": [
    "#Assigning features to x and target to y\n",
    "x = iris.data\n",
    "y = iris.target\n",
    "#60% data is used for training and 40% data is used for testing\n",
    "x_train, x_test, y_train, y_test = train_test_split(x, y, test_size = 0.2, random_state = 4)"
   ]
  },
  {
   "cell_type": "code",
   "execution_count": 3,
   "metadata": {},
   "outputs": [
    {
     "name": "stdout",
     "output_type": "stream",
     "text": [
      "When k is  1 accuracy is  93.33 percent.\n",
      "When k is  2 accuracy is  93.33 percent.\n",
      "When k is  3 accuracy is  96.67 percent.\n",
      "When k is  4 accuracy is  96.67 percent.\n",
      "When k is  5 accuracy is  96.67 percent.\n",
      "When k is  6 accuracy is  96.67 percent.\n",
      "When k is  7 accuracy is  96.67 percent.\n",
      "When k is  8 accuracy is  96.67 percent.\n",
      "When k is  9 accuracy is  96.67 percent.\n",
      "When k is  10 accuracy is  96.67 percent.\n",
      "When k is  11 accuracy is  96.67 percent.\n",
      "When k is  12 accuracy is  96.67 percent.\n",
      "When k is  13 accuracy is  96.67 percent.\n",
      "When k is  14 accuracy is  96.67 percent.\n",
      "When k is  15 accuracy is  96.67 percent.\n",
      "When k is  16 accuracy is  96.67 percent.\n",
      "When k is  17 accuracy is  96.67 percent.\n",
      "When k is  18 accuracy is  96.67 percent.\n",
      "When k is  19 accuracy is  96.67 percent.\n",
      "When k is  20 accuracy is  93.33 percent.\n",
      "When k is  21 accuracy is  96.67 percent.\n",
      "When k is  22 accuracy is  93.33 percent.\n",
      "When k is  23 accuracy is  96.67 percent.\n",
      "When k is  24 accuracy is  96.67 percent.\n"
     ]
    }
   ],
   "source": [
    "from sklearn.neighbors import KNeighborsClassifier #importing KNeighborsClassifier\n",
    "from sklearn import metrics #importing metrics to check the accuracy\n",
    "\n",
    "ks = np.arange(1, 25, 1) \n",
    "scores = {}\n",
    "score_list = []\n",
    "\n",
    "for k in ks:\n",
    "    knn = KNeighborsClassifier(n_neighbors=k)\n",
    "    knn.fit(x_train, y_train)\n",
    "    y_predict = knn.predict(x_test)\n",
    "    scores[k] = metrics.accuracy_score(y_test, y_predict)\n",
    "    print(\"When k is \",k,\"accuracy is \", np.round(scores[k]*100, 2), \"percent.\")\n",
    "    score_list.append(metrics.accuracy_score(y_test, y_predict))"
   ]
  },
  {
   "cell_type": "markdown",
   "metadata": {},
   "source": [
    "# Decide the best K value in this problem and give a brief explanation"
   ]
  },
  {
   "cell_type": "code",
   "execution_count": 4,
   "metadata": {},
   "outputs": [
    {
     "data": {
      "text/plain": [
       "([<matplotlib.axis.XTick at 0x1a20443a10>,\n",
       "  <matplotlib.axis.XTick at 0x1a20a72f90>,\n",
       "  <matplotlib.axis.XTick at 0x1a20a72290>,\n",
       "  <matplotlib.axis.XTick at 0x1a21171a50>,\n",
       "  <matplotlib.axis.XTick at 0x1a21171b50>,\n",
       "  <matplotlib.axis.XTick at 0x1a21180650>,\n",
       "  <matplotlib.axis.XTick at 0x1a21180cd0>,\n",
       "  <matplotlib.axis.XTick at 0x1a21186350>,\n",
       "  <matplotlib.axis.XTick at 0x1a21186990>,\n",
       "  <matplotlib.axis.XTick at 0x1a21186a90>,\n",
       "  <matplotlib.axis.XTick at 0x1a2118e610>,\n",
       "  <matplotlib.axis.XTick at 0x1a2118ec50>],\n",
       " <a list of 12 Text xticklabel objects>)"
      ]
     },
     "execution_count": 4,
     "metadata": {},
     "output_type": "execute_result"
    },
    {
     "data": {
      "image/png": "[encoded data removed]",
      "text/plain": [
       "<Figure size 432x288 with 1 Axes>"
      ]
     },
     "metadata": {
      "needs_background": "light"
     },
     "output_type": "display_data"
    }
   ],
   "source": [
    "#Visualizing the relationship between k-values and.. \n",
    "#..the corresponding testing accuracy\n",
    "%matplotlib inline\n",
    "import matplotlib.pyplot as plt\n",
    "\n",
    "plt.plot(ks, score_list)\n",
    "plt.xlabel('Value of K for KNN')\n",
    "plt.ylabel('Accuracy')\n",
    "plt.xticks(ticks=np.arange(1,25, 2))"
   ]
  },
  {
   "cell_type": "markdown",
   "metadata": {},
   "source": [
    ">The plot shows increase in accuracy with the increase in value of k until k=3, after which the accuracy remains constant until k=19. Testing accuracy falls at k=20 and k=22 which is likely due to overfitting.  "
   ]
  },
  {
   "cell_type": "markdown",
   "metadata": {},
   "source": [
    "# Choosing an optimal k-value of 6, which is between 3 and 19 to retrain the model and make the final prediction. "
   ]
  },
  {
   "cell_type": "code",
   "execution_count": 5,
   "metadata": {},
   "outputs": [
    {
     "name": "stdout",
     "output_type": "stream",
     "text": [
      "Predicted species is ' versicolor ' with accuracy 96.67 percent when k=6.\n"
     ]
    }
   ],
   "source": [
    "#retraining the model\n",
    "knn = KNeighborsClassifier(n_neighbors=6)\n",
    "knn.fit(x_train, y_train)\n",
    "\n",
    "#Predicting the species of the below random observations using our trained model\n",
    "\n",
    "species = {0:'setosa', 1:'versicolor', 2:'virginica'}\n",
    "new_data = [[0.3, 1.2, 4.4, 2.3]]\n",
    "y_prediction = knn.predict(new_data)\n",
    "\n",
    "scores = metrics.accuracy_score(y_test, y_predict)\n",
    "print(\"Predicted species is '\", species[y_prediction[0]], \"' with accuracy\",\n",
    "      np.round(scores*100, 2), \"percent when k=6.\")\n"
   ]
  }
 ],
 "metadata": {
  "kernelspec": {
   "display_name": "Python 3",
   "language": "python",
   "name": "python3"
  },
  "language_info": {
   "codemirror_mode": {
    "name": "ipython",
    "version": 3
   },
   "file_extension": ".py",
   "mimetype": "text/x-python",
   "name": "python",
   "nbconvert_exporter": "python",
   "pygments_lexer": "ipython3",
   "version": "3.7.4"
  }
 },
 "nbformat": 4,
 "nbformat_minor": 2
}
